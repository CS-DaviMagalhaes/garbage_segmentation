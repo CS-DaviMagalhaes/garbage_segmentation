{
 "cells": [
  {
   "cell_type": "code",
   "execution_count": 1,
   "metadata": {},
   "outputs": [],
   "source": [
    "from keras.models import load_model\n",
    "from PIL import Image, ImageOps\n",
    "import numpy as np\n",
    "import seaborn as sns\n",
    "import os\n",
    "from sklearn.metrics import confusion_matrix, classification_report, f1_score\n",
    "import matplotlib.pyplot as plt"
   ]
  },
  {
   "cell_type": "code",
   "execution_count": 2,
   "metadata": {},
   "outputs": [],
   "source": [
    "# Disable scientific notation for clarity\n",
    "np.set_printoptions(suppress=True)\n",
    "\n",
    "# Load the model\n",
    "model1 = load_model(\"C:/Users/davie/VSCode_projects/garbage_segmentation/models/old_models/keras_v2_100_ep.h5\", compile=False)\n",
    "model2 = load_model(\"C:/Users/davie/VSCode_projects/garbage_segmentation/models/old_models/keras_v2_500_ep.h5\", compile=False)\n",
    "model3 = load_model(\"C:/Users/davie/VSCode_projects/garbage_segmentation/models/old_models/keras_v3_500_ep.h5\", compile=False)\n",
    "\n",
    "\n",
    "# Load the labels\n",
    "class_names = [name.strip() for name in open(\"C:/Users/davie/VSCode_projects/garbage_segmentation/models/labels.txt\", \"r\").readlines()]"
   ]
  },
  {
   "cell_type": "code",
   "execution_count": 3,
   "metadata": {},
   "outputs": [],
   "source": [
    "# Define the test dataset directory\n",
    "test_dir = \"C:/Users/davie/VSCode_projects/garbage_segmentation/test_dataset\"\n",
    "size = (224, 224)"
   ]
  },
  {
   "cell_type": "markdown",
   "metadata": {},
   "source": [
    "Open image and correct it to the right format\n"
   ]
  },
  {
   "cell_type": "code",
   "execution_count": 4,
   "metadata": {},
   "outputs": [],
   "source": [
    "def test_models(model):\n",
    "    # Initialize counters\n",
    "    correct_predictions = 0\n",
    "    total_predictions = 0\n",
    "    wrong_predictions = {}\n",
    "\n",
    "    #arrays for metrics\n",
    "    y_true = []\n",
    "    y_pred = []\n",
    "\n",
    "    # Loop through each folder (each folder is a class label)\n",
    "    for class_folder in os.listdir(test_dir):\n",
    "        class_folder_path = os.path.join(test_dir, class_folder)\n",
    "        \n",
    "        # Skip if it's not a folder\n",
    "        if not os.path.isdir(class_folder_path):\n",
    "            continue\n",
    "        \n",
    "        # Loop through each image in the folder\n",
    "        for image_file in os.listdir(class_folder_path):\n",
    "            image_path = os.path.join(class_folder_path, image_file)\n",
    "            \n",
    "            # Load and preprocess the image\n",
    "            image = Image.open(image_path).convert(\"RGB\")\n",
    "            image = ImageOps.fit(image, size, Image.Resampling.LANCZOS)\n",
    "            image_array = np.asarray(image, dtype=np.float32)\n",
    "            normalized_image_array = (image_array / 127.5) - 1\n",
    "            data = np.expand_dims(normalized_image_array, axis=0)\n",
    "            \n",
    "            # Predict with the model\n",
    "            prediction = model.predict(data, verbose=0)\n",
    "            index = np.argmax(prediction)\n",
    "            predicted_class = class_names[index].strip()[2:]\n",
    "            \n",
    "            # Append the true and predicted labels (metrics)\n",
    "            y_true.append(class_folder)\n",
    "            y_pred.append(predicted_class)\n",
    "\n",
    "            # Check if the prediction is correct\n",
    "            if predicted_class == class_folder:\n",
    "                correct_predictions += 1\n",
    "            else:\n",
    "                if class_folder not in wrong_predictions:\n",
    "                    wrong_predictions[class_folder] = 1\n",
    "                else: \n",
    "                    wrong_predictions[class_folder] += 1\n",
    "            \n",
    "            total_predictions += 1\n",
    "\n",
    "    print(\"----------------------------------------------------\")\n",
    "    print(wrong_predictions)\n",
    "    accuracy = (correct_predictions / total_predictions) * 100\n",
    "    print(f\"Model Accuracy on Test Dataset: {accuracy:.2f}%\")\n",
    "\n",
    "    # Calculate F1 score and display classification report\n",
    "    print(\"Classification Report:\\n\")\n",
    "    print(classification_report(y_true, y_pred, target_names=class_names))\n",
    "\n",
    "    # Alternatively, calculate the F1 score directly if only interested in that metric\n",
    "    f1 = f1_score(y_true, y_pred, average=\"weighted\")\n",
    "    print(f\"\\nWeighted F1 Score: {f1:.2f}\")"
   ]
  },
  {
   "cell_type": "code",
   "execution_count": 5,
   "metadata": {},
   "outputs": [
    {
     "name": "stderr",
     "output_type": "stream",
     "text": [
      "c:\\Users\\davie\\VSCode_projects\\garbage_segmentation\\virtualenv\\lib\\site-packages\\PIL\\Image.py:1054: UserWarning: Palette images with Transparency expressed in bytes should be converted to RGBA images\n",
      "  warnings.warn(\n"
     ]
    },
    {
     "name": "stdout",
     "output_type": "stream",
     "text": [
      "----------------------------------------------------\n",
      "{'Cardboard': 13, 'Glass': 59, 'Metal': 101, 'Paper': 175, 'Plastic': 198}\n",
      "Model Accuracy on Test Dataset: 73.38%\n",
      "Classification Report:\n",
      "\n",
      "              precision    recall  f1-score   support\n",
      "\n",
      "   0 Plastic       0.63      0.95      0.75       242\n",
      "     1 Glass       0.67      0.84      0.74       363\n",
      "     2 Paper       0.78      0.71      0.74       345\n",
      "     3 Metal       0.79      0.57      0.66       404\n",
      " 4 Cardboard       0.79      0.72      0.75       697\n",
      "\n",
      "    accuracy                           0.73      2051\n",
      "   macro avg       0.73      0.75      0.73      2051\n",
      "weighted avg       0.75      0.73      0.73      2051\n",
      "\n",
      "\n",
      "Weighted F1 Score: 0.73\n"
     ]
    },
    {
     "name": "stderr",
     "output_type": "stream",
     "text": [
      "c:\\Users\\davie\\VSCode_projects\\garbage_segmentation\\virtualenv\\lib\\site-packages\\PIL\\Image.py:1054: UserWarning: Palette images with Transparency expressed in bytes should be converted to RGBA images\n",
      "  warnings.warn(\n"
     ]
    },
    {
     "name": "stdout",
     "output_type": "stream",
     "text": [
      "----------------------------------------------------\n",
      "{'Cardboard': 14, 'Glass': 44, 'Metal': 107, 'Paper': 172, 'Plastic': 216}\n",
      "Model Accuracy on Test Dataset: 73.04%\n",
      "Classification Report:\n",
      "\n",
      "              precision    recall  f1-score   support\n",
      "\n",
      "   0 Plastic       0.60      0.94      0.73       242\n",
      "     1 Glass       0.66      0.88      0.75       363\n",
      "     2 Paper       0.81      0.69      0.74       345\n",
      "     3 Metal       0.74      0.57      0.65       404\n",
      " 4 Cardboard       0.83      0.69      0.75       697\n",
      "\n",
      "    accuracy                           0.73      2051\n",
      "   macro avg       0.73      0.76      0.73      2051\n",
      "weighted avg       0.75      0.73      0.73      2051\n",
      "\n",
      "\n",
      "Weighted F1 Score: 0.73\n"
     ]
    },
    {
     "name": "stderr",
     "output_type": "stream",
     "text": [
      "c:\\Users\\davie\\VSCode_projects\\garbage_segmentation\\virtualenv\\lib\\site-packages\\PIL\\Image.py:1054: UserWarning: Palette images with Transparency expressed in bytes should be converted to RGBA images\n",
      "  warnings.warn(\n"
     ]
    },
    {
     "name": "stdout",
     "output_type": "stream",
     "text": [
      "----------------------------------------------------\n",
      "{'Cardboard': 12, 'Glass': 39, 'Metal': 112, 'Paper': 188, 'Plastic': 214}\n",
      "Model Accuracy on Test Dataset: 72.45%\n",
      "Classification Report:\n",
      "\n",
      "              precision    recall  f1-score   support\n",
      "\n",
      "   0 Plastic       0.58      0.95      0.72       242\n",
      "     1 Glass       0.66      0.89      0.76       363\n",
      "     2 Paper       0.79      0.68      0.73       345\n",
      "     3 Metal       0.77      0.53      0.63       404\n",
      " 4 Cardboard       0.82      0.69      0.75       697\n",
      "\n",
      "    accuracy                           0.72      2051\n",
      "   macro avg       0.72      0.75      0.72      2051\n",
      "weighted avg       0.75      0.72      0.72      2051\n",
      "\n",
      "\n",
      "Weighted F1 Score: 0.72\n"
     ]
    }
   ],
   "source": [
    "test_models(model1)\n",
    "test_models(model2)\n",
    "test_models(model3)"
   ]
  }
 ],
 "metadata": {
  "kernelspec": {
   "display_name": "virtualenv",
   "language": "python",
   "name": "python3"
  },
  "language_info": {
   "codemirror_mode": {
    "name": "ipython",
    "version": 3
   },
   "file_extension": ".py",
   "mimetype": "text/x-python",
   "name": "python",
   "nbconvert_exporter": "python",
   "pygments_lexer": "ipython3",
   "version": "3.10.5"
  }
 },
 "nbformat": 4,
 "nbformat_minor": 2
}
